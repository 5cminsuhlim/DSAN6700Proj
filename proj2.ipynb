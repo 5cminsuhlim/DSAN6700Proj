{
 "cells": [
  {
   "cell_type": "markdown",
   "metadata": {},
   "source": [
    "# Imports"
   ]
  },
  {
   "cell_type": "code",
   "execution_count": 1,
   "metadata": {},
   "outputs": [],
   "source": [
    "# project step 1\n",
    "from sklearn.metrics import classification_report, confusion_matrix, accuracy_score, roc_auc_score\n",
    "from sklearn.model_selection import train_test_split\n",
    "from sklearn.dummy import DummyClassifier\n",
    "import matplotlib.pyplot as plt\n",
    "from matplotlib import rcParams\n",
    "import seaborn as sns\n",
    "import pandas as pd\n",
    "import numpy as np\n",
    "\n",
    "# project step 2\n",
    "from sklearn.ensemble import RandomForestClassifier, BaggingClassifier, GradientBoostingClassifier, StackingClassifier\n",
    "from sklearn.model_selection import cross_val_score, RepeatedKFold\n",
    "from sklearn.linear_model import LogisticRegression\n",
    "from sklearn.neighbors import KNeighborsClassifier\n",
    "from sklearn.tree import DecisionTreeClassifier\n",
    "from sklearn.naive_bayes import GaussianNB\n",
    "from plotly.subplots import make_subplots\n",
    "from xgboost import XGBClassifier\n",
    "import plotly.graph_objs as gov\n",
    "import plotly.offline as pyo\n",
    "from sklearn.svm import SVC\n",
    "import plotly.express as px\n",
    "import pickle"
   ]
  },
  {
   "cell_type": "markdown",
   "metadata": {},
   "source": [
    "# Read in data"
   ]
  },
  {
   "cell_type": "code",
   "execution_count": 2,
   "metadata": {},
   "outputs": [],
   "source": [
    "df = pd.read_csv('./Fraud.csv')"
   ]
  },
  {
   "cell_type": "markdown",
   "metadata": {},
   "source": [
    "## Remap 'type' col to numeric"
   ]
  },
  {
   "cell_type": "code",
   "execution_count": 3,
   "metadata": {},
   "outputs": [
    {
     "data": {
      "text/plain": [
       "array(['PAYMENT', 'TRANSFER', 'CASH_OUT', 'DEBIT', 'CASH_IN'],\n",
       "      dtype=object)"
      ]
     },
     "execution_count": 3,
     "metadata": {},
     "output_type": "execute_result"
    }
   ],
   "source": [
    "df['type'].unique()"
   ]
  },
  {
   "cell_type": "code",
   "execution_count": 4,
   "metadata": {},
   "outputs": [],
   "source": [
    "type_to_num = {'PAYMENT' : 0, \n",
    "               'TRANSFER' : 1, \n",
    "               'CASH_OUT' : 2, \n",
    "               'DEBIT' : 3, \n",
    "               'CASH_IN' : 4}\n",
    "\n",
    "df['type'] = df['type'].map(type_to_num)\n",
    "df.rename(columns={'oldbalanceOrg' : 'oldBalanceOrig',\n",
    "                   'newbalanceOrig' : 'newBalanceOrig',\n",
    "                   'oldbalanceDest' : 'oldBalanceDest',\n",
    "                   'newbalanceDest' : 'newBalanceDest'}, inplace=True)"
   ]
  },
  {
   "cell_type": "code",
   "execution_count": 5,
   "metadata": {},
   "outputs": [
    {
     "name": "stdout",
     "output_type": "stream",
     "text": [
      "[0 1 2 3 4]\n",
      "   step  type    amount     nameOrig  oldBalanceOrig  newBalanceOrig  \\\n",
      "0     1     0   9839.64  C1231006815        170136.0       160296.36   \n",
      "1     1     0   1864.28  C1666544295         21249.0        19384.72   \n",
      "2     1     1    181.00  C1305486145           181.0            0.00   \n",
      "3     1     2    181.00   C840083671           181.0            0.00   \n",
      "4     1     0  11668.14  C2048537720         41554.0        29885.86   \n",
      "\n",
      "      nameDest  oldBalanceDest  newBalanceDest  isFraud  isFlaggedFraud  \n",
      "0  M1979787155             0.0             0.0        0               0  \n",
      "1  M2044282225             0.0             0.0        0               0  \n",
      "2   C553264065             0.0             0.0        1               0  \n",
      "3    C38997010         21182.0             0.0        1               0  \n",
      "4  M1230701703             0.0             0.0        0               0  \n",
      "step                int64\n",
      "type                int64\n",
      "amount            float64\n",
      "nameOrig           object\n",
      "oldBalanceOrig    float64\n",
      "newBalanceOrig    float64\n",
      "nameDest           object\n",
      "oldBalanceDest    float64\n",
      "newBalanceDest    float64\n",
      "isFraud             int64\n",
      "isFlaggedFraud      int64\n",
      "dtype: object\n"
     ]
    }
   ],
   "source": [
    "# sanity check\n",
    "\n",
    "print(df['type'].unique())\n",
    "print(df.head(5))\n",
    "print(df.dtypes)"
   ]
  },
  {
   "cell_type": "markdown",
   "metadata": {},
   "source": [
    "# Project Step 2"
   ]
  },
  {
   "cell_type": "markdown",
   "metadata": {},
   "source": [
    "# Down sample and Rebalance"
   ]
  },
  {
   "cell_type": "code",
   "execution_count": 6,
   "metadata": {},
   "outputs": [],
   "source": [
    "# separate df into 2 dfs based on target var\n",
    "isFraud = df[df['isFraud'] == 1]\n",
    "notFraud = df[df['isFraud'] == 0]\n",
    "\n",
    "# random sample non-fraud w/ 10x the number of rows as fraud\n",
    "resampled_df = notFraud.sample(n=10 * len(isFraud), random_state=1859)\n",
    "\n",
    "# concat the 2 dfs together\n",
    "balanced_df = pd.concat([isFraud, resampled_df])"
   ]
  },
  {
   "cell_type": "markdown",
   "metadata": {},
   "source": [
    "# Baseline Model"
   ]
  },
  {
   "cell_type": "code",
   "execution_count": 7,
   "metadata": {},
   "outputs": [
    {
     "name": "stdout",
     "output_type": "stream",
     "text": [
      "              precision    recall  f1-score   support\n",
      "\n",
      "           0       0.91      0.91      0.91     24674\n",
      "           1       0.08      0.09      0.09      2429\n",
      "\n",
      "    accuracy                           0.83     27103\n",
      "   macro avg       0.50      0.50      0.50     27103\n",
      "weighted avg       0.84      0.83      0.83     27103\n",
      "\n",
      "Accuracy: 0.83\n",
      "AUC-ROC Score: 0.50\n",
      "[[22381  2293]\n",
      " [ 2216   213]]\n"
     ]
    },
    {
     "data": {
      "image/png": "[encoded data removed]",
      "text/plain": [
       "<Figure size 1000x600 with 1 Axes>"
      ]
     },
     "metadata": {},
     "output_type": "display_data"
    }
   ],
   "source": [
    "X = balanced_df.drop(columns=['nameOrig', 'nameDest','isFraud', 'isFlaggedFraud'])\n",
    "y = balanced_df['isFraud']\n",
    "\n",
    "# train-test 70-30 split (since heavily imbalanced)\n",
    "X_train, X_test, y_train, y_test = train_test_split(X, y, test_size=0.3, random_state=1859)\n",
    "\n",
    "# train baseline model (dummy classifier)\n",
    "dummy_classifier = DummyClassifier(strategy='stratified') # using stratified since heavily imbalanced\n",
    "dummy_classifier.fit(X_train, y_train)\n",
    "\n",
    "# predict\n",
    "y_pred = dummy_classifier.predict(X_test)\n",
    "print(classification_report(y_test, y_pred))\n",
    "\n",
    "# accuracy score\n",
    "accuracy = accuracy_score(y_test, y_pred)\n",
    "print(f'Accuracy: {accuracy:.2f}') # accuracy is pretty uninformative with heavily imbalanced data\n",
    "\n",
    "# AUC-ROC score\n",
    "roc_auc = roc_auc_score(y_test, dummy_classifier.predict_proba(X_test)[:, 1])\n",
    "print(f'AUC-ROC Score: {roc_auc:.2f}') # 0.5 ==> essentially randomly guessing\n",
    "\n",
    "# create confusion matrix\n",
    "conf_matrix = confusion_matrix(y_test, y_pred)\n",
    "print(conf_matrix)\n",
    "\n",
    "# plot confusion matrix\n",
    "plt.figure(figsize=(10, 6))\n",
    "sns.heatmap(conf_matrix, annot=True, fmt='d', cmap='Blues', cbar=False)\n",
    "plt.xlabel('Predicted')\n",
    "plt.ylabel('Actual')\n",
    "plt.title('Confusion Matrix (Baseline Dummy Classifier)')\n",
    "plt.show();"
   ]
  },
  {
   "cell_type": "markdown",
   "metadata": {},
   "source": [
    "# Project Step 2"
   ]
  },
  {
   "cell_type": "markdown",
   "metadata": {},
   "source": [
    "# Model Selection"
   ]
  },
  {
   "cell_type": "markdown",
   "metadata": {},
   "source": [
    "## Compare Classifiers"
   ]
  },
  {
   "cell_type": "code",
   "execution_count": 8,
   "metadata": {},
   "outputs": [
    {
     "name": "stdout",
     "output_type": "stream",
     "text": [
      ">lr 0.960 (0.002)\n",
      ">KNN 0.981 (0.001)\n",
      ">Tree 0.994 (0.001)\n"
     ]
    }
   ],
   "source": [
    "# define stacked classifier\n",
    "def base_models():\n",
    "  models = dict()\n",
    "  models['lr'] = LogisticRegression()\n",
    "  models[\"KNN\"] = KNeighborsClassifier()\n",
    "  models[\"Tree\"] = DecisionTreeClassifier()\n",
    "  models[\"SVC\"] = SVC()\n",
    "  models[\"Gaussian\"] = GaussianNB()\n",
    "  models[\"RF\"] = RandomForestClassifier()\n",
    "  models[\"Bag\"] = BaggingClassifier()\n",
    "  models[\"GB\"] = GradientBoostingClassifier()\n",
    "  models[\"XGB\"] = XGBClassifier()\n",
    "  return models\n",
    "\n",
    "# evaluate the list of models\n",
    "def eval_models(model):\n",
    "  cv = RepeatedKFold(n_splits=5, n_repeats=3, random_state=1859) # reducing to 5x3 b/c taking WAAAAAY too long\n",
    "  scores = cross_val_score(model, X_train, y_train, scoring='accuracy', cv=cv, n_jobs=-1, error_score=0)\n",
    "  return scores\n",
    "\n",
    "models = base_models()\n",
    "\n",
    "# evaluate the models and store results\n",
    "results, names = list(), list()\n",
    "\n",
    "for name, model in models.items():\n",
    "  scores = eval_models(model)\n",
    "  results.append(scores)\n",
    "  names.append(name)\n",
    "  print('>%s %.3f (%.3f)' % (name, scores.mean(), scores.std()))\n",
    "\n",
    "classmod = pd.DataFrame(np.transpose(results), columns = ['lr', 'KNN', 'Tree', 'SVC', 'Gaussian', 'RF', 'Bag', 'GB', 'XGB'])\n",
    "classmod = pd.melt(classmod.reset_index(), id_vars='index',value_vars=['lr', 'KNN', 'Tree', 'SVC', 'Gaussian', 'RF', 'Bag', 'GB', 'XGB'])"
   ]
  },
  {
   "cell_type": "code",
   "execution_count": null,
   "metadata": {},
   "outputs": [],
   "source": [
    "fig = px.box(classmod, x=\"variable\", y=\"value\",color=\"variable\",points='all',\n",
    "labels={\"variable\": \"Machine Learning Model\",\n",
    "        \"value\": \"Accuracy\"\n",
    "        },title=\"Model Performance\")\n",
    "\n",
    "file_path = './boxplot1.html'\n",
    "pyo.plot(fig, filename=file_path, auto_open=False)\n",
    "\n",
    "fig.show();"
   ]
  },
  {
   "cell_type": "code",
   "execution_count": null,
   "metadata": {},
   "outputs": [],
   "source": [
    "def eval_model_once(model):\n",
    "  clf = model\n",
    "  clf.fit(X_train, y_train)\n",
    "  ypred = clf.predict(X_test)\n",
    "  return ypred\n",
    "models = base_models()\n",
    "\n",
    "for name, model in models.items():\n",
    "  y_pred = eval_model_once(model)\n",
    "  conf_matrix = confusion_matrix(y_test, y_pred)\n",
    "  plt.figure(figsize=(3, 3))\n",
    "  sns.heatmap(conf_matrix, annot=True, fmt=\"d\", cmap=\"Blues\", cbar=False)\n",
    "  plt.xlabel(\"Predicted Labels\")\n",
    "  plt.ylabel(\"True Labels\")\n",
    "  plt.title(\"{} Confusion Matrix\".format(name))\n",
    "  plt.show()\n",
    "\n"
   ]
  },
  {
   "cell_type": "markdown",
   "metadata": {},
   "source": [
    "## Stacked Classifier"
   ]
  },
  {
   "cell_type": "code",
   "execution_count": null,
   "metadata": {},
   "outputs": [],
   "source": [
    "def get_stacking():\n",
    "\t# define the base models\n",
    "  level0 = list()\n",
    "  level0.append(('RF', RandomForestClassifier()))\n",
    "  level0.append(('Bagging', BaggingClassifier()))\n",
    "  level0.append(('XGB', XGBClassifier()))\n",
    "\t# define meta learner model\n",
    "  level1 = LogisticRegression()\n",
    "\t# define the stacking ensemble\n",
    "  model = StackingClassifier(estimators=level0, final_estimator=level1, cv=2)\n",
    "  return model\n",
    "\n",
    "def base_models():\n",
    "  model = dict()\n",
    "  model[\"XGB\"] = XGBClassifier()\n",
    "  model[\"Random Forest\"] = RandomForestClassifier()\n",
    "  model[\"Bagging\"] = BaggingClassifier()\n",
    "  model[\"Stacked Model\"] = get_stacking()\n",
    "  return model\n",
    "\n",
    "# Function to evaluate the list of models\n",
    "def eval_models(model):\n",
    "  cv = RepeatedKFold(n_splits=3, n_repeats=5, random_state=1859) # reducing to 3x5 b/c taking WAAAAAY too long\n",
    "  scores = cross_val_score(model, X_train, y_train, scoring='accuracy', cv=cv, n_jobs=-1,\n",
    "                            error_score=0)\n",
    "  return scores\n",
    "\n",
    "models = base_models()"
   ]
  },
  {
   "cell_type": "code",
   "execution_count": null,
   "metadata": {},
   "outputs": [],
   "source": [
    "# evaluate the models and store results\n",
    "results, names = list(), list()\n",
    "\n",
    "for name, model in models.items():\n",
    "  print(\"Working on {}\".format(name))\n",
    "  scores = eval_models(model)\n",
    "  results.append(scores)\n",
    "  names.append(name)\n",
    "  print('>%s %.3f (%.3f)' % (name, scores.mean(), scores.std()))"
   ]
  },
  {
   "cell_type": "code",
   "execution_count": null,
   "metadata": {},
   "outputs": [],
   "source": [
    "classmod1 = pd.DataFrame(np.transpose(results), columns = [\"XGB\",\"Random Forest\",\"Bagging\",\"Stacked Classifier\"])\n",
    "classmod1 = pd.melt(classmod1.reset_index(), id_vars='index',value_vars=[\"XGB\",\"Random Forest\",\"Bagging\",\"Stacked Classifier\"])\n",
    "classmod1.to_csv(\"./classmod1.csv\")\n",
    "\n",
    "fig = px.box(classmod1, x=\"variable\", y=\"value\",color=\"variable\",points='all',\n",
    "                labels={\"variable\": \"Machine Learning Model\",\n",
    "                        \"value\": \"Accuracy\"\n",
    "                        },title=\"Model Performance\"\n",
    ")\n",
    "file_path = './boxplot2.html'\n",
    "pyo.plot(fig, filename=file_path, auto_open=False)\n",
    "\n",
    "fig.show();"
   ]
  },
  {
   "cell_type": "code",
   "execution_count": null,
   "metadata": {},
   "outputs": [],
   "source": [
    "level0 = list()\n",
    "level0.append(('XGB', XGBClassifier()))\n",
    "level0.append(('RF', RandomForestClassifier()))\n",
    "level0.append(('Bagging', BaggingClassifier()))\n",
    "\n",
    "level1 = LogisticRegression()\n",
    "model = StackingClassifier(estimators=level0, final_estimator=level1, cv=2)\n",
    "model.fit(X_train, y_train)"
   ]
  },
  {
   "cell_type": "markdown",
   "metadata": {},
   "source": [
    "## Pickle"
   ]
  },
  {
   "cell_type": "code",
   "execution_count": null,
   "metadata": {},
   "outputs": [],
   "source": [
    "# Save to file in the current working directory\n",
    "pkl_filename = \"./proj_pickle.pkl\"\n",
    "\n",
    "# save pickle file\n",
    "with open(pkl_filename, 'wb') as file:\n",
    "    pickle.dump(model, file)\n",
    "\n",
    "# Load from file\n",
    "with open(pkl_filename, 'rb') as file:\n",
    "    pickle_model = pickle.load(file)"
   ]
  },
  {
   "cell_type": "code",
   "execution_count": null,
   "metadata": {},
   "outputs": [],
   "source": [
    "score = pickle_model.score(X_test, y_test)\n",
    "print(\"Test score: {0:.2f} %\".format(100 * score))\n",
    "Y_predict = pickle_model.predict(X_test)\n",
    "predictions = pd.DataFrame(Y_predict, columns=['predictions'])\n",
    "predictions['actual'] = y_test"
   ]
  },
  {
   "cell_type": "code",
   "execution_count": null,
   "metadata": {},
   "outputs": [],
   "source": [
    "conf_matrix = confusion_matrix(y_test, predictions['predictions'])\n",
    "print(conf_matrix)\n",
    "plt.figure(figsize=(3, 3))\n",
    "sns.heatmap(conf_matrix, annot=True, fmt=\"d\", cmap=\"Blues\", cbar=False)\n",
    "plt.xlabel(\"Predicted Labels\")\n",
    "plt.ylabel(\"True Labels\")\n",
    "plt.title(\"Stacked Model Confusion Matrix\")\n",
    "plt.show();"
   ]
  }
 ],
 "metadata": {
  "kernelspec": {
   "display_name": "DSAN6700",
   "language": "python",
   "name": "python3"
  },
  "language_info": {
   "codemirror_mode": {
    "name": "ipython",
    "version": 3
   },
   "file_extension": ".py",
   "mimetype": "text/x-python",
   "name": "python",
   "nbconvert_exporter": "python",
   "pygments_lexer": "ipython3",
   "version": "3.10.12"
  },
  "orig_nbformat": 4
 },
 "nbformat": 4,
 "nbformat_minor": 2
}
